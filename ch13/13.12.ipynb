{
 "cells": [
  {
   "cell_type": "code",
   "execution_count": null,
   "metadata": {},
   "outputs": [],
   "source": [
    "# 风格迁移\n",
    "''' \n",
    "接下来，我们通过前向传播（实线箭头⽅向）计算⻛格迁移的损失函数，并通过反向传播（虚线箭头⽅向）迭\n",
    "代模型参数，即不断更新合成图像。⻛格迁移常⽤的损失函数由3部分组成：（i）内容损失使合成图像与内容\n",
    "图像在内容特征上接近；（ii）⻛格损失使合成图像与⻛格图像在⻛格特征上接近；（iii）全变分损失则有助于\n",
    "减少合成图像中的噪点。最后，当模型训练结束时，我们输出⻛格迁移的模型参数，即得到最终的合成图像。\n",
    "------------------------------------------------------------------------------------------\n",
    "⾸先，我们读取内容和⻛格图像。从打印出的图像坐标轴可以看出，它们的尺⼨并不⼀样\n",
    "'''\n",
    "%matplotlib inline\n",
    "import torch\n",
    "import torchvision\n",
    "from torch import nn\n",
    "from d2l import torch as d2l\n",
    "d2l.set_figsize()\n",
    "# 读取内容图像\n",
    "content_img = d2l.Image.open('../img/rainier.jpg')\n",
    "d2l.plt.imshow(content_img);"
   ]
  },
  {
   "cell_type": "code",
   "execution_count": null,
   "metadata": {},
   "outputs": [],
   "source": [
    "'''\n",
    "# 读取风格图像\n",
    "style_img = d2l.Image.open('../img/autumn-oak.jpg')\n",
    "d2l.plt.imshow(style_img);\n",
    "---------------------------------------------------------\n",
    "因缺少 autumn-oak.jpg 且所学并不涉及风格迁移,故此篇暂时完结,留待将来\n",
    "'''"
   ]
  },
  {
   "cell_type": "code",
   "execution_count": null,
   "metadata": {},
   "outputs": [],
   "source": [
    "''' \n",
    "⼩结\n",
    "• ⻛格迁移常⽤的损失函数由3部分组成：（i）内容损失使合成图像与内容图像在内容特征上接近；（ii）\n",
    "⻛格损失令合成图像与⻛格图像在⻛格特征上接近；（iii）全变分损失则有助于减少合成图像中的噪点。\n",
    "• 我们可以通过预训练的卷积神经⽹络来抽取图像的特征，并通过最⼩化损失函数来不断更新合成图像\n",
    "来作为模型参数。\n",
    "• 我们使⽤格拉姆矩阵表达风格层输出的⻛格\n",
    "'''"
   ]
  }
 ],
 "metadata": {
  "kernelspec": {
   "display_name": "Python 3.8.13 ('d2l': conda)",
   "language": "python",
   "name": "python3"
  },
  "language_info": {
   "codemirror_mode": {
    "name": "ipython",
    "version": 3
   },
   "file_extension": ".py",
   "mimetype": "text/x-python",
   "name": "python",
   "nbconvert_exporter": "python",
   "pygments_lexer": "ipython3",
   "version": "3.8.13"
  },
  "orig_nbformat": 4,
  "vscode": {
   "interpreter": {
    "hash": "cbb412de504602cf3af13b2245b631c81b4c2841b1a325e0f1c2b48c8f82890b"
   }
  }
 },
 "nbformat": 4,
 "nbformat_minor": 2
}
