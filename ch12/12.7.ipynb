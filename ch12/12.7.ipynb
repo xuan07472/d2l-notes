{
 "cells": [
  {
   "cell_type": "code",
   "execution_count": 1,
   "metadata": {},
   "outputs": [],
   "source": [
    "# 参数服务器\n",
    "''' \n",
    "⼩结\n",
    "• 同步需要⾼度适应特定的⽹络基础设施和服务器内的连接，这种适应会严重影响同步所需的时间。\n",
    "• 环同步对于p3和DGX-2服务器是最佳的，⽽对于其他服务器则未必。\n",
    "• 当添加多个参数服务器以增加带宽时，分层同步策略可以⼯作的很好。\n",
    "'''"
   ]
  }
 ],
 "metadata": {
  "kernelspec": {
   "display_name": "Python 3.8.13 ('d2l': conda)",
   "language": "python",
   "name": "python3"
  },
  "language_info": {
   "codemirror_mode": {
    "name": "ipython",
    "version": 3
   },
   "file_extension": ".py",
   "mimetype": "text/x-python",
   "name": "python",
   "nbconvert_exporter": "python",
   "pygments_lexer": "ipython3",
   "version": "3.8.13"
  },
  "orig_nbformat": 4,
  "vscode": {
   "interpreter": {
    "hash": "cbb412de504602cf3af13b2245b631c81b4c2841b1a325e0f1c2b48c8f82890b"
   }
  }
 },
 "nbformat": 4,
 "nbformat_minor": 2
}
