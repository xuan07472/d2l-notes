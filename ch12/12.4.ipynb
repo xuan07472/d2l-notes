{
 "cells": [
  {
   "cell_type": "code",
   "execution_count": 1,
   "metadata": {},
   "outputs": [],
   "source": [
    "# 硬件\n",
    "# 计算机\n",
    "''' \n",
    "⾼速扩展总线（PCIe）⽤于系统连接⼀个或多个GPU。服务器最多有8个加速卡，通常以更⾼级的拓扑\n",
    "⽅式连接，⽽桌⾯系统则有1个或2个加速卡，具体取决于⽤⼾的预算和电源负载的⼤⼩。\n",
    "'''"
   ]
  },
  {
   "cell_type": "code",
   "execution_count": null,
   "metadata": {},
   "outputs": [],
   "source": [
    "''' \n",
    "⼩结\n",
    "• 设备有运⾏开销。因此，数据传输要争取量⼤次少⽽不是量少次多。这适⽤于RAM、固态驱动器、⽹\n",
    "络和GPU。\n",
    "• ⽮量化是性能的关键。确保充分了解你的加速器的特定功能。例如，⼀些Intel Xeon CPU特别适⽤\n",
    "于INT8操作，NVIDIA Volta GPU擅⻓FP16矩阵操作，NVIDIA Turing擅⻓FP16、INT8和INT4操作。\n",
    "• 在训练过程中数据类型过⼩导致的数值溢出可能是个问题（在推断过程中则影响不⼤）。\n",
    "• 数据混叠现象会导致严重的性能退化。64位CPU应该按照64位边界进⾏内存对⻬。在GPU上建议保持卷\n",
    "积⼤⼩对⻬，例如：与张量核对⻬。\n",
    "• 将算法与硬件相匹配（例如，内存占⽤和带宽）。将命中参数装⼊缓存后，可以实现很⼤数量级的加速\n",
    "⽐。\n",
    "• 在验证实验结果之前，我们建议先在纸上勾勒出新算法的性能。关注的原因是数量级及以上的差异。\n",
    "• 使⽤调试器跟踪调试寻找性能的瓶颈。\n",
    "• 训练硬件和推断硬件在性能和价格⽅⾯有不同的优点。\n",
    "'''"
   ]
  }
 ],
 "metadata": {
  "kernelspec": {
   "display_name": "Python 3.8.13 ('d2l': conda)",
   "language": "python",
   "name": "python3"
  },
  "language_info": {
   "codemirror_mode": {
    "name": "ipython",
    "version": 3
   },
   "file_extension": ".py",
   "mimetype": "text/x-python",
   "name": "python",
   "nbconvert_exporter": "python",
   "pygments_lexer": "ipython3",
   "version": "3.8.13"
  },
  "orig_nbformat": 4,
  "vscode": {
   "interpreter": {
    "hash": "cbb412de504602cf3af13b2245b631c81b4c2841b1a325e0f1c2b48c8f82890b"
   }
  }
 },
 "nbformat": 4,
 "nbformat_minor": 2
}
