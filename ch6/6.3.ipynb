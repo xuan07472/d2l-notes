{
 "cells": [
  {
   "cell_type": "code",
   "execution_count": 1,
   "metadata": {},
   "outputs": [],
   "source": [
    "# 填充和步幅\n",
    "''' \n",
    "在许多情况下，我们需要设置ph = kh − 1和pw = kw − 1，使输⼊和输出具有相同的⾼度和宽度。这样可以在\n",
    "构建⽹络时更容易地预测每个图层的输出形状。假设kh是奇数，我们将在⾼度的两侧填充ph/2⾏。如果kh是\n",
    "偶数，则⼀种可能性是在输⼊顶部填充⌈ph/2⌉⾏，在底部填充⌊ph/2⌋⾏。同理，我们填充宽度的两侧\n",
    "# ⌈ph/2⌉ 向上取整 ⌊ph/2⌋ 向下取整\n",
    "\n",
    "卷积神经⽹络中卷积核的⾼度和宽度通常为奇数，例如1、3、5或7。选择奇数的好处是，保持空间维度的同\n",
    "时，我们可以在顶部和底部填充相同数量的⾏，在左侧和右侧填充相同数量的列。\n",
    "此外，使⽤奇数的核⼤⼩和填充⼤⼩也提供了书写上的便利。对于任何⼆维张量X，当满⾜：1. 卷积核的⼤⼩\n",
    "是奇数；2. 所有边的填充⾏数和列数相同；3. 输出与输⼊具有相同⾼度和宽度则可以得出：输出Y[i, j]是\n",
    "通过以输⼊X[i, j]为中⼼，与卷积核进⾏互相关计算得到的。\n",
    "⽐如，在下⾯的例⼦中，我们创建⼀个⾼度和宽度为3的⼆维卷积层，并在所有侧边填充1个像素。给定⾼度\n",
    "和宽度为8的输⼊，则输出的⾼度和宽度也是8。\n",
    "'''\n",
    "import torch\n",
    "from torch import nn\n"
   ]
  },
  {
   "cell_type": "code",
   "execution_count": 20,
   "metadata": {},
   "outputs": [
    {
     "data": {
      "text/plain": [
       "torch.Size([8, 8])"
      ]
     },
     "execution_count": 20,
     "metadata": {},
     "output_type": "execute_result"
    }
   ],
   "source": [
    "# 为了⽅便起⻅，我们定义了⼀个计算卷积层的函数。\n",
    "# 此函数初始化卷积层权重，并对输⼊和输出提⾼和缩减相应的维数\n",
    "def comp_conv2d(conv2d, X):\n",
    "    # 这⾥的（1，1）表⽰批量⼤⼩和通道数都是1 -> x[ batch_size, channels, height_1, width_1 ]\n",
    "    X = X.reshape((1, 1) + X.shape) # X -> [1, 1, 8, 8]   X.shape -> torch.Size([8, 8])\n",
    "    Y = conv2d(X) # 对X进行二维卷积\n",
    "    # 省略前两个维度：批量⼤⼩和通道 相比于Y.shape[:],输出少了两个方括号\n",
    "    return Y.reshape(Y.shape[2:]) # Y的输出为res[ batch_size,output, height_3, width_3 ]\n",
    "# 请注意，这⾥每边都填充了1⾏或1列，因此总共添加了2⾏或2列\n",
    "''' \n",
    "x[ batch_size, channels, height_1, width_1 ]\n",
    "\n",
    "Conv2d[ channels, output, height_2, width_2 ]\n",
    "\n",
    "res[ batch_size,output, height_3, width_3 ]\n",
    "\n",
    "torch.nn.Conv2d(in_channels, out_channels, kernel_size,\n",
    "                stride=1,padding=0, dilation=1, groups=1, bias=True)\n",
    "'''\n",
    "\n",
    "\n",
    "conv2d = nn.Conv2d(1, 1, kernel_size=3, padding=1) # 对多个输入平面组成的输入信号进行二维卷积\n",
    "X = torch.rand(size=(8, 8)) # 均匀分布[0,1] X的高宽为8\n",
    "comp_conv2d(conv2d, X).shape"
   ]
  },
  {
   "cell_type": "code",
   "execution_count": 21,
   "metadata": {},
   "outputs": [
    {
     "data": {
      "text/plain": [
       "torch.Size([8, 8])"
      ]
     },
     "execution_count": 21,
     "metadata": {},
     "output_type": "execute_result"
    }
   ],
   "source": [
    "''' \n",
    "当卷积核的⾼度和宽度不同时，我们可以填充不同的⾼度和宽度，使输出和输⼊具有相同的⾼度和宽度。在\n",
    "如下⽰例中，我们使⽤⾼度为5，宽度为3的卷积核，⾼度和宽度两边的填充分别为2和1。\n",
    "'''\n",
    "conv2d = nn.Conv2d(1, 1, kernel_size=(5, 3), padding=(2, 1))\n",
    "comp_conv2d(conv2d, X).shape"
   ]
  },
  {
   "cell_type": "code",
   "execution_count": 22,
   "metadata": {},
   "outputs": [
    {
     "data": {
      "text/plain": [
       "torch.Size([4, 4])"
      ]
     },
     "execution_count": 22,
     "metadata": {},
     "output_type": "execute_result"
    }
   ],
   "source": [
    "# 步幅\n",
    "# 下⾯，我们将⾼度和宽度的步幅设置为2，从⽽将输⼊的⾼度和宽度减半。\n",
    "conv2d = nn.Conv2d(1, 1, kernel_size=3, padding=1, stride=2)\n",
    "comp_conv2d(conv2d, X).shape"
   ]
  },
  {
   "cell_type": "code",
   "execution_count": 23,
   "metadata": {},
   "outputs": [
    {
     "data": {
      "text/plain": [
       "torch.Size([2, 2])"
      ]
     },
     "execution_count": 23,
     "metadata": {},
     "output_type": "execute_result"
    }
   ],
   "source": [
    "# 接下来，看⼀个稍微复杂的例⼦。\n",
    "conv2d = nn.Conv2d(1, 1, kernel_size=(3, 5), padding=(0, 1), stride=(3, 4))\n",
    "comp_conv2d(conv2d, X).shape"
   ]
  },
  {
   "cell_type": "code",
   "execution_count": null,
   "metadata": {},
   "outputs": [],
   "source": [
    "''' \n",
    "为了简洁起⻅，当输⼊⾼度和宽度两侧的填充数量分别为ph和pw时，我们称之为填充(ph, pw)。当ph = pw =\n",
    "p时，填充是p。同理，当⾼度和宽度上的步幅分别为sh和sw时，我们称之为步幅(sh, sw)。当时的步幅为sh =\n",
    "sw = s时，步幅为s。默认情况下，填充为0，步幅为1。在实践中，我们很少使⽤不⼀致的步幅或填充，也就\n",
    "是说，我们通常有ph = pw和sh = sw。\n",
    "-------------------------------------------------------------------------------------------\n",
    "⼩结\n",
    "• 填充可以增加输出的⾼度和宽度。这常⽤来使输出与输⼊具有相同的⾼和宽。\n",
    "• 步幅可以减⼩输出的⾼和宽，例如输出的⾼和宽仅为输⼊的⾼和宽的1/n（n是⼀个⼤于1的整数）。\n",
    "• 填充和步幅可⽤于有效地调整数据的维度。\n",
    "'''"
   ]
  }
 ],
 "metadata": {
  "kernelspec": {
   "display_name": "Python 3.8.13 ('d2l': conda)",
   "language": "python",
   "name": "python3"
  },
  "language_info": {
   "codemirror_mode": {
    "name": "ipython",
    "version": 3
   },
   "file_extension": ".py",
   "mimetype": "text/x-python",
   "name": "python",
   "nbconvert_exporter": "python",
   "pygments_lexer": "ipython3",
   "version": "3.8.13"
  },
  "orig_nbformat": 4,
  "vscode": {
   "interpreter": {
    "hash": "cbb412de504602cf3af13b2245b631c81b4c2841b1a325e0f1c2b48c8f82890b"
   }
  }
 },
 "nbformat": 4,
 "nbformat_minor": 2
}
