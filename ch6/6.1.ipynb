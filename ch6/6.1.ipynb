{
 "cells": [
  {
   "cell_type": "code",
   "execution_count": 1,
   "metadata": {},
   "outputs": [],
   "source": [
    "# 卷积神经网络\n",
    "''' \n",
    "⼩结\n",
    "• 图像的平移不变性使我们以相同的⽅式处理局部图像，⽽不在乎它的位置。\n",
    "• 局部性意味着计算相应的隐藏表⽰只需⼀⼩部分局部图像像素。\n",
    "• 在图像处理中，卷积层通常⽐全连接层需要更少的参数，但依旧获得⾼效⽤的模型。\n",
    "• 卷积神经⽹络（CNN）是⼀类特殊的神经⽹络，它可以包含多个卷积层。\n",
    "• 多个输⼊和输出通道使模型在每个空间位置可以获取图像的多⽅⾯特征。\n",
    "'''"
   ]
  }
 ],
 "metadata": {
  "kernelspec": {
   "display_name": "Python 3.8.13 ('d2l': conda)",
   "language": "python",
   "name": "python3"
  },
  "language_info": {
   "codemirror_mode": {
    "name": "ipython",
    "version": 3
   },
   "file_extension": ".py",
   "mimetype": "text/x-python",
   "name": "python",
   "nbconvert_exporter": "python",
   "pygments_lexer": "ipython3",
   "version": "3.8.13"
  },
  "orig_nbformat": 4,
  "vscode": {
   "interpreter": {
    "hash": "cbb412de504602cf3af13b2245b631c81b4c2841b1a325e0f1c2b48c8f82890b"
   }
  }
 },
 "nbformat": 4,
 "nbformat_minor": 2
}
