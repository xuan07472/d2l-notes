{
 "cells": [
  {
   "cell_type": "code",
   "execution_count": 1,
   "metadata": {},
   "outputs": [
    {
     "data": {
      "text/plain": [
       "(device(type='cpu'), device(type='cuda'), device(type='cuda', index=1))"
      ]
     },
     "execution_count": 1,
     "metadata": {},
     "output_type": "execute_result"
    }
   ],
   "source": [
    "# GPU\n",
    "# 计算设备\n",
    "''' \n",
    "我们可以指定⽤于存储和计算的设备，如CPU和GPU。默认情况下，张量是在内存中创建的，然后使⽤CPU计\n",
    "算它。\n",
    "在PyTorch中，CPU和GPU可以⽤torch.device('cpu') 和torch.device('cuda')表⽰。应该注意的\n",
    "是，cpu设备意味着所有物理CPU和内存，这意味着PyTorch的计算将尝试使⽤所有CPU核⼼。然⽽，gpu设备\n",
    "只代表⼀个卡和相应的显存。如果有多个GPU，我们使⽤torch.device(f'cuda:{i}') 来表⽰第i块GPU\n",
    "（i从0开始）。另外，cuda:0和cuda是等价的\n",
    "'''\n",
    "import torch\n",
    "from torch import nn\n",
    "# cuda:0和cuda是等价的\n",
    "torch.device('cpu'), torch.device('cuda'), torch.device('cuda:1')"
   ]
  },
  {
   "cell_type": "code",
   "execution_count": 3,
   "metadata": {},
   "outputs": [
    {
     "data": {
      "text/plain": [
       "1"
      ]
     },
     "execution_count": 3,
     "metadata": {},
     "output_type": "execute_result"
    }
   ],
   "source": [
    "'我们可以查询可⽤gpu的数量'\n",
    "torch.cuda.device_count() # 查询gpu数量"
   ]
  },
  {
   "cell_type": "code",
   "execution_count": 4,
   "metadata": {},
   "outputs": [
    {
     "data": {
      "text/plain": [
       "(device(type='cuda', index=0),\n",
       " device(type='cpu'),\n",
       " [device(type='cuda', index=0)])"
      ]
     },
     "execution_count": 4,
     "metadata": {},
     "output_type": "execute_result"
    }
   ],
   "source": [
    "# 现在我们定义了两个⽅便的函数，这两个函数允许我们在不存在所需所有GPU的情况下运⾏代码\n",
    "# 即尝试测试是否有gpu,若有则返回gpu,无则返回cpu\n",
    "def try_gpu(i=0): #@save\n",
    "    \"\"\"如果存在，则返回gpu(i)，否则返回cpu()\"\"\"\n",
    "    if torch.cuda.device_count() >= i + 1:\n",
    "        return torch.device(f'cuda:{i}')\n",
    "    return torch.device('cpu')\n",
    "def try_all_gpus(): #@save\n",
    "    \"\"\"返回所有可⽤的GPU，如果没有GPU，则返回[cpu(),]\"\"\"\n",
    "    devices = [torch.device(f'cuda:{i}')\n",
    "               for i in range(torch.cuda.device_count())]\n",
    "    return devices if devices else [torch.device('cpu')]\n",
    "try_gpu(), try_gpu(10), try_all_gpus()"
   ]
  },
  {
   "cell_type": "code",
   "execution_count": 5,
   "metadata": {},
   "outputs": [
    {
     "data": {
      "text/plain": [
       "device(type='cpu')"
      ]
     },
     "execution_count": 5,
     "metadata": {},
     "output_type": "execute_result"
    }
   ],
   "source": [
    "# 张量与gpu\n",
    "''' \n",
    "我们可以查询张量所在的设备。默认情况下，张量是在CPU上创建的\n",
    "\n",
    "需要注意的是，⽆论何时我们要对多个项进⾏操作，它们都必须在同⼀个设备上。例如，如果我们对两个张\n",
    "量求和，我们需要确保两个张量都位于同⼀个设备上，否则框架将不知道在哪⾥存储结果，甚⾄不知道在哪\n",
    "⾥执⾏计算\n",
    "'''\n",
    "x = torch.tensor([1, 2, 3])\n",
    "x.device"
   ]
  },
  {
   "cell_type": "code",
   "execution_count": 6,
   "metadata": {},
   "outputs": [
    {
     "data": {
      "text/plain": [
       "tensor([[1., 1., 1.],\n",
       "        [1., 1., 1.]], device='cuda:0')"
      ]
     },
     "execution_count": 6,
     "metadata": {},
     "output_type": "execute_result"
    }
   ],
   "source": [
    "# 存储在GPU上\n",
    "''' \n",
    "有⼏种⽅法可以在GPU上存储张量。例如，我们可以在创建张量时指定存储设备。接下来，我们在第⼀个gpu上\n",
    "创建张量变量X。在GPU上创建的张量只消耗这个GPU的显存。我们可以使⽤nvidia-smi命令查看显存使\n",
    "⽤情况。⼀般来说，我们需要确保不创建超过GPU显存限制的数据\n",
    "'''\n",
    "X = torch.ones(2, 3, device=try_gpu())\n",
    "X"
   ]
  },
  {
   "cell_type": "code",
   "execution_count": 9,
   "metadata": {},
   "outputs": [
    {
     "name": "stdout",
     "output_type": "stream",
     "text": [
      "Thu Oct  6 11:25:28 2022       \n",
      "+-----------------------------------------------------------------------------+\n",
      "| NVIDIA-SMI 510.63       Driver Version: 512.36       CUDA Version: 11.6     |\n",
      "|-------------------------------+----------------------+----------------------+\n",
      "| GPU  Name        Persistence-M| Bus-Id        Disp.A | Volatile Uncorr. ECC |\n",
      "| Fan  Temp  Perf  Pwr:Usage/Cap|         Memory-Usage | GPU-Util  Compute M. |\n",
      "|                               |                      |               MIG M. |\n",
      "|===============================+======================+======================|\n",
      "|   0  NVIDIA GeForce ...  On   | 00000000:01:00.0  On |                  N/A |\n",
      "| N/A   37C    P5    19W /  N/A |   1757MiB /  8192MiB |     50%      Default |\n",
      "|                               |                      |                  N/A |\n",
      "+-------------------------------+----------------------+----------------------+\n",
      "                                                                               \n",
      "+-----------------------------------------------------------------------------+\n",
      "| Processes:                                                                  |\n",
      "|  GPU   GI   CI        PID   Type   Process name                  GPU Memory |\n",
      "|        ID   ID                                                   Usage      |\n",
      "|=============================================================================|\n",
      "|    0   N/A  N/A      1487      C   /python3.8                      N/A      |\n",
      "+-----------------------------------------------------------------------------+\n"
     ]
    }
   ],
   "source": [
    "!nvidia-smi"
   ]
  },
  {
   "cell_type": "code",
   "execution_count": 24,
   "metadata": {},
   "outputs": [
    {
     "data": {
      "text/plain": [
       "tensor([[0.9447, 0.5018, 0.9690],\n",
       "        [0.4654, 0.2505, 0.3227]], device='cuda:0')"
      ]
     },
     "execution_count": 24,
     "metadata": {},
     "output_type": "execute_result"
    }
   ],
   "source": [
    "''' \n",
    "假设你⾄少有两个GPU，下⾯的代码将在第⼆个GPU上创建⼀个随机张量\n",
    "\n",
    "'''\n",
    "Y = torch.rand(2, 3, device=try_gpu())\n",
    "Y\n",
    "# Y.cuda() # 若没有GPU1,则Y存储到CPU中\n",
    "# X+Y"
   ]
  },
  {
   "cell_type": "code",
   "execution_count": 28,
   "metadata": {},
   "outputs": [
    {
     "name": "stdout",
     "output_type": "stream",
     "text": [
      "tensor([[1., 1., 1.],\n",
      "        [1., 1., 1.]], device='cuda:0')\n",
      "tensor([[1., 1., 1.],\n",
      "        [1., 1., 1.]], device='cuda:0')\n"
     ]
    },
    {
     "data": {
      "text/plain": [
       "True"
      ]
     },
     "execution_count": 28,
     "metadata": {},
     "output_type": "execute_result"
    }
   ],
   "source": [
    "# 复制\n",
    "''' \n",
    "如果我们要计算X + Y，我们需要决定在哪⾥执⾏这个操作。例如，如 图5.6.1所⽰，我们可以将X传输到第\n",
    "⼆个GPU并在那⾥执⾏操作。不要简单地X加上Y，因为这会导致异常，运⾏时引擎不知道该怎么做：它在同\n",
    "⼀设备上找不到数据会导致失败。由于Y位于第⼆个GPU上，所以我们需要将X移到那⾥，然后才能执⾏相加\n",
    "运算。\n",
    "'''\n",
    "Z = X.cuda() # cuda 即GPU\n",
    "print(X)\n",
    "print(Z)\n",
    "X.cuda() is X # 因为X已经在GPU0 上,载体调用X.cuda()将会返回X,不会复制并分配新内存"
   ]
  },
  {
   "cell_type": "code",
   "execution_count": 26,
   "metadata": {},
   "outputs": [
    {
     "data": {
      "text/plain": [
       "tensor([[2., 2., 2.],\n",
       "        [2., 2., 2.]], device='cuda:0')"
      ]
     },
     "execution_count": 26,
     "metadata": {},
     "output_type": "execute_result"
    }
   ],
   "source": [
    "X+Z"
   ]
  },
  {
   "cell_type": "code",
   "execution_count": null,
   "metadata": {},
   "outputs": [],
   "source": [
    "''' \n",
    "假设变量Z已经存在于第⼆个GPU上。如果我们还是调⽤Z.cuda(1)会发⽣什么？它将返回Z，⽽不会复制\n",
    "并分配新内存\n",
    "\n",
    "Z.cuda(1) is Z\n",
    "True\n",
    "'''\n"
   ]
  },
  {
   "cell_type": "code",
   "execution_count": null,
   "metadata": {},
   "outputs": [],
   "source": [
    "# 旁注\n",
    "''' \n",
    "⼈们使⽤GPU来进⾏机器学习，因为单个GPU相对运⾏速度快。但是在设备（CPU、GPU和其他机器）之间\n",
    "传输数据⽐计算慢得多。这也使得并⾏化变得更加困难，因为我们必须等待数据被发送（或者接收），然后\n",
    "才能继续进⾏更多的操作。这就是为什么拷⻉操作要格外⼩⼼。根据经验，多个⼩操作⽐⼀个⼤操作糟糕得\n",
    "多。此外，⼀次执⾏⼏个操作⽐代码中散布的许多单个操作要好得多（除⾮你确信⾃⼰在做什么）。如果⼀个\n",
    "设备必须等待另⼀个设备才能执⾏其他操作，那么这样的操作可能会阻塞。这有点像排队订购咖啡，⽽不像\n",
    "通过电话预先订购：当你到店的时候，咖啡已经准备好了\n",
    "\n",
    "最后，当我们打印张量或将张量转换为NumPy格式时，如果数据不在内存中，框架会⾸先将其复制到内存中，\n",
    "这会导致额外的传输开销。更糟糕的是，它现在受制于全局解释器锁，使得⼀切都得等待Python完成。\n",
    "'''"
   ]
  },
  {
   "cell_type": "code",
   "execution_count": 30,
   "metadata": {},
   "outputs": [],
   "source": [
    "# 神经网络与GPU\n",
    "'类似地，神经⽹络模型可以指定设备。下⾯的代码将模型参数放在GPU上'\n",
    "net = nn.Sequential(nn.Linear(3, 1))\n",
    "net = net.to(device=try_gpu()) # 指定设备,将模型代码参数放在GPU上"
   ]
  },
  {
   "cell_type": "code",
   "execution_count": 45,
   "metadata": {},
   "outputs": [
    {
     "data": {
      "text/plain": [
       "tensor([[-0.1733],\n",
       "        [-0.1733]], device='cuda:0', grad_fn=<AddmmBackward0>)"
      ]
     },
     "execution_count": 45,
     "metadata": {},
     "output_type": "execute_result"
    }
   ],
   "source": [
    "''' \n",
    "在接下来的⼏章中，我们将看到更多关于如何在GPU上运⾏模型的例⼦，因为它们将变得更加计算密集。\n",
    "当输⼊为GPU上的张量时，模型将在同⼀GPU上计算结果\n",
    "'''\n",
    "C = torch.ones(2, 3).cuda()\n",
    "# B= C.cuda()\n",
    "net(C)"
   ]
  },
  {
   "cell_type": "code",
   "execution_count": 46,
   "metadata": {},
   "outputs": [
    {
     "data": {
      "text/plain": [
       "device(type='cuda', index=0)"
      ]
     },
     "execution_count": 46,
     "metadata": {},
     "output_type": "execute_result"
    }
   ],
   "source": [
    "# 确认模型参数存储在同一个GPU上\n",
    "net[0].weight.data.device"
   ]
  },
  {
   "cell_type": "code",
   "execution_count": null,
   "metadata": {},
   "outputs": [],
   "source": [
    "''' \n",
    "⼩结\n",
    "• 我们可以指定⽤于存储和计算的设备，例如CPU或GPU。默认情况下，数据在主内存中创建，然后使\n",
    "⽤CPU进⾏计算。\n",
    "• 深度学习框架要求计算的所有输⼊数据都在同⼀设备上，⽆论是CPU还是GPU。\n",
    "• 不经意地移动数据可能会显著降低性能。⼀个典型的错误如下：计算GPU上每个⼩批量的损失，并在\n",
    "命令⾏中将其报告给⽤⼾（或将其记录在NumPy ndarray中）时，将触发全局解释器锁，从⽽使所\n",
    "有GPU阻塞。最好是为GPU内部的⽇志分配内存，并且只移动较⼤的⽇志。\n",
    "'''"
   ]
  }
 ],
 "metadata": {
  "kernelspec": {
   "display_name": "Python 3.8.13 ('d2l': conda)",
   "language": "python",
   "name": "python3"
  },
  "language_info": {
   "codemirror_mode": {
    "name": "ipython",
    "version": 3
   },
   "file_extension": ".py",
   "mimetype": "text/x-python",
   "name": "python",
   "nbconvert_exporter": "python",
   "pygments_lexer": "ipython3",
   "version": "3.8.13"
  },
  "orig_nbformat": 4,
  "vscode": {
   "interpreter": {
    "hash": "cbb412de504602cf3af13b2245b631c81b4c2841b1a325e0f1c2b48c8f82890b"
   }
  }
 },
 "nbformat": 4,
 "nbformat_minor": 2
}
